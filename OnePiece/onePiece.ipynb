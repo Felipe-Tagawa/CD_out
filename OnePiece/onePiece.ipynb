{
 "cells": [
  {
   "cell_type": "code",
   "execution_count": 2,
   "id": "152e7c14",
   "metadata": {},
   "outputs": [
    {
     "name": "stdout",
     "output_type": "stream",
     "text": [
      "[['0' 'Straw Hat Pirates' 'East Blue Foosha Village'\n",
      "  'Mon May 05 2017 08:00 UTC' 'Thousand Sunny | Monkey D. Luffy Captain'\n",
      "  'Active' '1500000000' 'Success']\n",
      " ['1' 'Heart Pirates' 'North Blue Spider Miles'\n",
      "  'Tue Jan 15 2018 14:30 UTC'\n",
      "  'Polar Tang Submarine | Trafalgar D. Law Captain' 'Active' '3000000000'\n",
      "  'Success']\n",
      " ['2' 'Kid Pirates' 'South Blue' 'Wed Mar 22 2019 10:45 UTC'\n",
      "  'Victoria Punk | Eustass Kid Captain' 'Active' '3000000000' 'Success']\n",
      " ['3' 'Red Hair Pirates' 'New World Elbaf' 'Thu Jul 10 2020 16:20 UTC'\n",
      "  'Red Force | Shanks Captain' 'Active' '4048900000' 'Success']\n",
      " ['4' 'Whitebeard Pirates' 'New World Sphinx Island'\n",
      "  'Fri Sep 18 2015 12:00 UTC' 'Moby Dick | Edward Newgate Captain'\n",
      "  'Inactive' '5046000000' 'Failure']\n",
      " ['5' 'Beast Pirates' 'Wano Country Onigashima'\n",
      "  'Sat Nov 30 2021 20:15 UTC' 'Mammoth Ship | Kaido Captain' 'Inactive'\n",
      "  '4611100000' 'Failure']\n",
      " ['6' 'Big Mom Pirates' 'Whole Cake Island Totto Land'\n",
      "  'Sun Feb 14 2020 11:30 UTC'\n",
      "  'Queen Mama Chanter | Charlotte Linlin Captain' 'Inactive' '4388000000'\n",
      "  'Failure']\n",
      " ['7' 'Blackbeard Pirates' 'New World Hachinosu'\n",
      "  'Mon Apr 08 2019 09:25 UTC'\n",
      "  'Saber of Xebec | Marshall D. Teach Captain' 'Active' '3996000000'\n",
      "  'Success']\n",
      " ['8' 'Revolutionary Army' 'Baltigo' 'Tue Dec 03 2018 13:40 UTC'\n",
      "  'Wind Granma | Monkey D. Dragon Leader' 'Active' '0' 'Success']\n",
      " ['9' 'Baroque Works' 'Alabasta Kingdom' 'Wed May 20 2017 07:15 UTC'\n",
      "  'Various Ships | Crocodile Boss' 'Inactive' '81000000' 'Failure']\n",
      " ['10' 'CP9' 'Enies Lobby Water 7' 'Thu Aug 12 2017 15:50 UTC'\n",
      "  'Sea Train Puffing Tom | Rob Lucci Leader' 'Inactive' '0' 'Failure']\n",
      " ['11' 'Donquixote Pirates' 'Dressrosa Kingdom'\n",
      "  'Fri Oct 25 2019 18:35 UTC'\n",
      "  'Numancia Flamingo | Donquixote Doflamingo Captain' 'Inactive'\n",
      "  '340000000' 'Failure']\n",
      " ['12' 'Arlong Pirates' 'East Blue Cocoyasi Village'\n",
      "  'Sat Jun 08 2016 06:45 UTC' 'Shark Superb | Arlong Captain' 'Inactive'\n",
      "  '20000000' 'Failure']\n",
      " ['13' 'Kuja Pirates' 'Amazon Lily' 'Sun Jan 28 2021 14:20 UTC'\n",
      "  'Perfume Yuda | Boa Hancock Captain' 'Active' '1659000000' 'Success']\n",
      " ['14' 'Sun Pirates' 'Fish-Man Island' 'Mon Sep 11 2017 10:10 UTC'\n",
      "  'Snapper Head | Jinbe Former Captain' 'Active' '438000000' 'Success']\n",
      " ['15' 'Roger Pirates' 'Laugh Tale Raftel Island'\n",
      "  'Tue Mar 15 1999 12:00 UTC' 'Oro Jackson | Gol D. Roger Captain'\n",
      "  'Inactive' '5564800000' 'Success']]\n"
     ]
    }
   ],
   "source": [
    "import numpy as np\n",
    "\n",
    "ds = np.loadtxt(\"onePiece.csv\",\n",
    "                delimiter= \";\",\n",
    "                dtype= str,\n",
    "                encoding= \"utf-8\")\n",
    "\n",
    "#print(ds)\n",
    "\n",
    "data = ds[1:] # Linha 1 em diante(evitar a primeira)\n",
    "print(data)"
   ]
  },
  {
   "cell_type": "code",
   "execution_count": 3,
   "id": "e14bba89",
   "metadata": {},
   "outputs": [
    {
     "name": "stdout",
     "output_type": "stream",
     "text": [
      "['1500000000' '3000000000' '3000000000' '4048900000' '5046000000'\n",
      " '4611100000' '4388000000' '3996000000' '0' '81000000' '0' '340000000'\n",
      " '20000000' '1659000000' '438000000' '5564800000']\n",
      "A média das recompensas é de 2355800000.0 berries\n",
      "A recompensa mais alta é de 5564800000 berries da tripulação: Roger Pirates\n"
     ]
    }
   ],
   "source": [
    "# Média dos valores das recompensas dos capitães:\n",
    "\n",
    "# Coluna das recompensas(6):\n",
    "\n",
    "recompensas = data[:,6]\n",
    "\n",
    "print(recompensas)\n",
    "\n",
    "# Antes de fazer qualquer coisa com os valores, precisamos transformá-los em inteiros\n",
    "\n",
    "recompensas = recompensas.astype(int)\n",
    "\n",
    "print(f\"A média das recompensas é de {recompensas.mean()} berries\")\n",
    "\n",
    "# Recompensa mais alta:\n",
    "\n",
    "crewName = data[:, 1]\n",
    "\n",
    "indiceMax = np.argmax(recompensas)\n",
    "\n",
    "print(f\"A recompensa mais alta é de {recompensas.max()} berries da tripulação: {crewName[indiceMax]}\")\n",
    "\n",
    "\n"
   ]
  },
  {
   "cell_type": "code",
   "execution_count": 18,
   "id": "dc9f78f2",
   "metadata": {},
   "outputs": [
    {
     "name": "stdout",
     "output_type": "stream",
     "text": [
      "['East Blue Foosha Village' 'North Blue Spider Miles' 'South Blue'\n",
      " 'East Blue Cocoyasi Village']\n"
     ]
    }
   ],
   "source": [
    "# Mostrar apariçòes de 'Blue'\n",
    "\n",
    "location = data[:,2]\n",
    "\n",
    "print(location[np.char.find(location, 'Blue') >= 0])"
   ]
  },
  {
   "cell_type": "code",
   "execution_count": 17,
   "id": "282d92dc",
   "metadata": {},
   "outputs": [
    {
     "name": "stdout",
     "output_type": "stream",
     "text": [
      "A porcentagem de missões concluídas com sucesso foi de: 56.25 %\n"
     ]
    }
   ],
   "source": [
    "missionStatus = data[:, 7]\n",
    "\n",
    "missionSuccess = missionStatus[np.char.find(missionStatus, 'Success') >= 0]\n",
    "\n",
    "missionPorcent = ((len(missionSuccess)/ len(missionStatus)) * 100)\n",
    "print(f\"A porcentagem de missões concluídas com sucesso foi de: {missionPorcent:.2f} %\")"
   ]
  },
  {
   "cell_type": "code",
   "execution_count": 29,
   "id": "59b2e5bd",
   "metadata": {},
   "outputs": [
    {
     "name": "stdout",
     "output_type": "stream",
     "text": [
      "['Active' 'Active' 'Active' 'Active' 'Inactive' 'Inactive' 'Inactive'\n",
      " 'Active' 'Active' 'Inactive' 'Inactive' 'Inactive' 'Inactive' 'Active'\n",
      " 'Active' 'Inactive']\n",
      "17641900000\n"
     ]
    }
   ],
   "source": [
    "# Fazer a soma das recompensas apenas das tripulações ativas\n",
    "\n",
    "atividade = data[:, 5]\n",
    "\n",
    "print(atividade)\n",
    "\n",
    "Active = np.char.find(atividade, 'Active') >= 0\n",
    "\n",
    "print(recompensas[Active].sum())"
   ]
  }
 ],
 "metadata": {
  "kernelspec": {
   "display_name": ".venv",
   "language": "python",
   "name": "python3"
  },
  "language_info": {
   "codemirror_mode": {
    "name": "ipython",
    "version": 3
   },
   "file_extension": ".py",
   "mimetype": "text/x-python",
   "name": "python",
   "nbconvert_exporter": "python",
   "pygments_lexer": "ipython3",
   "version": "3.13.2"
  }
 },
 "nbformat": 4,
 "nbformat_minor": 5
}
